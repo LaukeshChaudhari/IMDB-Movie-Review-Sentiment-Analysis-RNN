{
 "cells": [
  {
   "cell_type": "code",
   "execution_count": 7,
   "metadata": {},
   "outputs": [],
   "source": [
    "# Step 1: Import Libraries and Load the Model\n",
    "import numpy as np\n",
    "import tensorflow as tf\n",
    "from tensorflow.keras.datasets import imdb\n",
    "from tensorflow.keras.preprocessing import sequence\n",
    "from tensorflow.keras.models import load_model"
   ]
  },
  {
   "cell_type": "code",
   "execution_count": 8,
   "metadata": {},
   "outputs": [],
   "source": [
    "# Load the IMDB dataset word index\n",
    "word_index = imdb.get_word_index()\n",
    "reverse_word_index = {value: key for key, value in word_index.items()}"
   ]
  },
  {
   "cell_type": "code",
   "execution_count": 9,
   "metadata": {},
   "outputs": [
    {
     "name": "stderr",
     "output_type": "stream",
     "text": [
      "WARNING:absl:Compiled the loaded model, but the compiled metrics have yet to be built. `model.compile_metrics` will be empty until you train or evaluate the model.\n"
     ]
    },
    {
     "data": {
      "text/html": [
       "<pre style=\"white-space:pre;overflow-x:auto;line-height:normal;font-family:Menlo,'DejaVu Sans Mono',consolas,'Courier New',monospace\"><span style=\"font-weight: bold\">Model: \"sequential_1\"</span>\n",
       "</pre>\n"
      ],
      "text/plain": [
       "\u001b[1mModel: \"sequential_1\"\u001b[0m\n"
      ]
     },
     "metadata": {},
     "output_type": "display_data"
    },
    {
     "data": {
      "text/html": [
       "<pre style=\"white-space:pre;overflow-x:auto;line-height:normal;font-family:Menlo,'DejaVu Sans Mono',consolas,'Courier New',monospace\">┏━━━━━━━━━━━━━━━━━━━━━━━━━━━━━━━━━┳━━━━━━━━━━━━━━━━━━━━━━━━┳━━━━━━━━━━━━━━━┓\n",
       "┃<span style=\"font-weight: bold\"> Layer (type)                    </span>┃<span style=\"font-weight: bold\"> Output Shape           </span>┃<span style=\"font-weight: bold\">       Param # </span>┃\n",
       "┡━━━━━━━━━━━━━━━━━━━━━━━━━━━━━━━━━╇━━━━━━━━━━━━━━━━━━━━━━━━╇━━━━━━━━━━━━━━━┩\n",
       "│ embedding_1 (<span style=\"color: #0087ff; text-decoration-color: #0087ff\">Embedding</span>)         │ (<span style=\"color: #00af00; text-decoration-color: #00af00\">32</span>, <span style=\"color: #00af00; text-decoration-color: #00af00\">500</span>, <span style=\"color: #00af00; text-decoration-color: #00af00\">128</span>)         │     <span style=\"color: #00af00; text-decoration-color: #00af00\">1,280,000</span> │\n",
       "├─────────────────────────────────┼────────────────────────┼───────────────┤\n",
       "│ simple_rnn_1 (<span style=\"color: #0087ff; text-decoration-color: #0087ff\">SimpleRNN</span>)        │ (<span style=\"color: #00af00; text-decoration-color: #00af00\">32</span>, <span style=\"color: #00af00; text-decoration-color: #00af00\">128</span>)              │        <span style=\"color: #00af00; text-decoration-color: #00af00\">32,896</span> │\n",
       "├─────────────────────────────────┼────────────────────────┼───────────────┤\n",
       "│ dense_1 (<span style=\"color: #0087ff; text-decoration-color: #0087ff\">Dense</span>)                 │ (<span style=\"color: #00af00; text-decoration-color: #00af00\">32</span>, <span style=\"color: #00af00; text-decoration-color: #00af00\">1</span>)                │           <span style=\"color: #00af00; text-decoration-color: #00af00\">129</span> │\n",
       "└─────────────────────────────────┴────────────────────────┴───────────────┘\n",
       "</pre>\n"
      ],
      "text/plain": [
       "┏━━━━━━━━━━━━━━━━━━━━━━━━━━━━━━━━━┳━━━━━━━━━━━━━━━━━━━━━━━━┳━━━━━━━━━━━━━━━┓\n",
       "┃\u001b[1m \u001b[0m\u001b[1mLayer (type)                   \u001b[0m\u001b[1m \u001b[0m┃\u001b[1m \u001b[0m\u001b[1mOutput Shape          \u001b[0m\u001b[1m \u001b[0m┃\u001b[1m \u001b[0m\u001b[1m      Param #\u001b[0m\u001b[1m \u001b[0m┃\n",
       "┡━━━━━━━━━━━━━━━━━━━━━━━━━━━━━━━━━╇━━━━━━━━━━━━━━━━━━━━━━━━╇━━━━━━━━━━━━━━━┩\n",
       "│ embedding_1 (\u001b[38;5;33mEmbedding\u001b[0m)         │ (\u001b[38;5;34m32\u001b[0m, \u001b[38;5;34m500\u001b[0m, \u001b[38;5;34m128\u001b[0m)         │     \u001b[38;5;34m1,280,000\u001b[0m │\n",
       "├─────────────────────────────────┼────────────────────────┼───────────────┤\n",
       "│ simple_rnn_1 (\u001b[38;5;33mSimpleRNN\u001b[0m)        │ (\u001b[38;5;34m32\u001b[0m, \u001b[38;5;34m128\u001b[0m)              │        \u001b[38;5;34m32,896\u001b[0m │\n",
       "├─────────────────────────────────┼────────────────────────┼───────────────┤\n",
       "│ dense_1 (\u001b[38;5;33mDense\u001b[0m)                 │ (\u001b[38;5;34m32\u001b[0m, \u001b[38;5;34m1\u001b[0m)                │           \u001b[38;5;34m129\u001b[0m │\n",
       "└─────────────────────────────────┴────────────────────────┴───────────────┘\n"
      ]
     },
     "metadata": {},
     "output_type": "display_data"
    },
    {
     "data": {
      "text/html": [
       "<pre style=\"white-space:pre;overflow-x:auto;line-height:normal;font-family:Menlo,'DejaVu Sans Mono',consolas,'Courier New',monospace\"><span style=\"font-weight: bold\"> Total params: </span><span style=\"color: #00af00; text-decoration-color: #00af00\">1,313,027</span> (5.01 MB)\n",
       "</pre>\n"
      ],
      "text/plain": [
       "\u001b[1m Total params: \u001b[0m\u001b[38;5;34m1,313,027\u001b[0m (5.01 MB)\n"
      ]
     },
     "metadata": {},
     "output_type": "display_data"
    },
    {
     "data": {
      "text/html": [
       "<pre style=\"white-space:pre;overflow-x:auto;line-height:normal;font-family:Menlo,'DejaVu Sans Mono',consolas,'Courier New',monospace\"><span style=\"font-weight: bold\"> Trainable params: </span><span style=\"color: #00af00; text-decoration-color: #00af00\">1,313,025</span> (5.01 MB)\n",
       "</pre>\n"
      ],
      "text/plain": [
       "\u001b[1m Trainable params: \u001b[0m\u001b[38;5;34m1,313,025\u001b[0m (5.01 MB)\n"
      ]
     },
     "metadata": {},
     "output_type": "display_data"
    },
    {
     "data": {
      "text/html": [
       "<pre style=\"white-space:pre;overflow-x:auto;line-height:normal;font-family:Menlo,'DejaVu Sans Mono',consolas,'Courier New',monospace\"><span style=\"font-weight: bold\"> Non-trainable params: </span><span style=\"color: #00af00; text-decoration-color: #00af00\">0</span> (0.00 B)\n",
       "</pre>\n"
      ],
      "text/plain": [
       "\u001b[1m Non-trainable params: \u001b[0m\u001b[38;5;34m0\u001b[0m (0.00 B)\n"
      ]
     },
     "metadata": {},
     "output_type": "display_data"
    },
    {
     "data": {
      "text/html": [
       "<pre style=\"white-space:pre;overflow-x:auto;line-height:normal;font-family:Menlo,'DejaVu Sans Mono',consolas,'Courier New',monospace\"><span style=\"font-weight: bold\"> Optimizer params: </span><span style=\"color: #00af00; text-decoration-color: #00af00\">2</span> (12.00 B)\n",
       "</pre>\n"
      ],
      "text/plain": [
       "\u001b[1m Optimizer params: \u001b[0m\u001b[38;5;34m2\u001b[0m (12.00 B)\n"
      ]
     },
     "metadata": {},
     "output_type": "display_data"
    }
   ],
   "source": [
    "# Load the pre-trained model with ReLU activation\n",
    "model = load_model('simple_rnn_imdb.h5')\n",
    "model.summary()"
   ]
  },
  {
   "cell_type": "code",
   "execution_count": 10,
   "metadata": {},
   "outputs": [
    {
     "data": {
      "text/plain": [
       "[array([[ 2.1948054e-01, -1.5823483e-01, -9.8458499e-01, ...,\n",
       "          2.1492988e-01, -1.6517544e-01,  1.5135650e-01],\n",
       "        [ 3.7927747e-02, -2.1472830e-02, -3.5371713e-02, ...,\n",
       "          1.3501588e-02, -2.5861578e-03,  3.6471892e-02],\n",
       "        [ 6.3741960e-02, -1.1880102e-01, -1.9869977e-01, ...,\n",
       "         -3.3295341e-03, -2.7529027e-02,  2.7964825e-02],\n",
       "        ...,\n",
       "        [ 5.2306451e-02, -1.3248317e-02, -2.4163698e-04, ...,\n",
       "         -3.6403816e-02,  7.4827112e-02, -2.3225952e-02],\n",
       "        [ 1.2169183e-02,  6.4093903e-02, -1.8743185e-02, ...,\n",
       "          2.1975443e-02, -1.0589772e-02,  2.5107659e-02],\n",
       "        [ 3.4505222e-03,  6.3457224e-03, -6.2100599e-03, ...,\n",
       "          6.7424714e-03, -1.6578112e-02, -1.5712827e-03]], dtype=float32),\n",
       " array([[ 0.14677264, -0.0303309 , -0.10683483, ..., -0.24494451,\n",
       "         -0.08954842,  0.08713546],\n",
       "        [-0.1160714 , -0.01844453, -0.01013307, ...,  0.17053448,\n",
       "         -0.02045159,  0.09005994],\n",
       "        [-0.03773754,  0.17037323,  0.02708576, ..., -0.04610536,\n",
       "          0.07833846,  0.20962146],\n",
       "        ...,\n",
       "        [ 0.07886827,  0.10625707, -0.00494814, ..., -0.23805334,\n",
       "          0.1574424 ,  0.04722178],\n",
       "        [-0.06038901, -0.01721998, -0.1321233 , ..., -0.07497671,\n",
       "         -0.07507277,  0.12523279],\n",
       "        [-0.04753363, -0.11436457,  0.03257802, ..., -0.0425716 ,\n",
       "          0.10548653, -0.03347621]], dtype=float32),\n",
       " array([[-0.21746942, -0.0661296 ,  0.10330477, ..., -0.02531627,\n",
       "          0.06877649, -0.02285721],\n",
       "        [ 0.00223831, -0.01466956, -0.05940335, ..., -0.01233095,\n",
       "         -0.03548837,  0.05556142],\n",
       "        [-0.06925985, -0.00486389,  0.02202015, ..., -0.01099344,\n",
       "         -0.07652509, -0.0441508 ],\n",
       "        ...,\n",
       "        [ 0.12582344, -0.07824171, -0.07752735, ...,  0.04718962,\n",
       "         -0.17125702, -0.06651143],\n",
       "        [-0.02579436, -0.10470677, -0.09291664, ...,  0.05487007,\n",
       "         -0.02884165, -0.0702189 ],\n",
       "        [ 0.00090295, -0.09762923,  0.03058458, ...,  0.15852608,\n",
       "          0.20241961, -0.01473164]], dtype=float32),\n",
       " array([-0.02274562, -0.0024034 ,  0.03234234, -0.02037244, -0.00628185,\n",
       "        -0.01812678,  0.05318934,  0.0099412 , -0.00659922, -0.01835185,\n",
       "        -0.02122171,  0.00069326, -0.03765645,  0.01289616, -0.01559605,\n",
       "        -0.03838283, -0.01958733, -0.01839316, -0.00225376,  0.00425075,\n",
       "         0.01039911,  0.00688042,  0.00087342, -0.00664543, -0.00052905,\n",
       "         0.00167339, -0.01971759,  0.02917992, -0.02340101, -0.03810185,\n",
       "         0.00827834, -0.01317473,  0.00784685,  0.03474148,  0.00107841,\n",
       "         0.01922109, -0.0084454 , -0.03268673, -0.00366073, -0.03607612,\n",
       "        -0.06487302, -0.01527419, -0.02947566, -0.03439461, -0.01016962,\n",
       "         0.03480961,  0.01180499,  0.0184045 , -0.01211634,  0.0080643 ,\n",
       "        -0.00542009,  0.00773639, -0.01444078,  0.01423293, -0.03244349,\n",
       "         0.00153053, -0.03479021,  0.00613099, -0.02102836, -0.05526687,\n",
       "        -0.04543893, -0.01319589, -0.01675847, -0.00498781,  0.0215111 ,\n",
       "         0.04435915, -0.01323236,  0.01171445, -0.01177664,  0.00861491,\n",
       "        -0.02970858, -0.00501979,  0.01202218, -0.00021571, -0.02041222,\n",
       "        -0.01252892, -0.01082365, -0.05239097, -0.01954972,  0.00867546,\n",
       "        -0.03352827, -0.02878391,  0.00877587, -0.01705962, -0.00591045,\n",
       "        -0.00229402, -0.04750452,  0.00483273, -0.00394598, -0.0354085 ,\n",
       "         0.0124784 ,  0.00198083, -0.03437915,  0.03069081, -0.01042152,\n",
       "         0.00068454, -0.00739256,  0.02110566,  0.01205737, -0.0040041 ,\n",
       "        -0.01076091, -0.02738137, -0.03215145, -0.01119715,  0.02722364,\n",
       "        -0.00751254,  0.01719262,  0.01606222,  0.01023761, -0.01290946,\n",
       "        -0.03222649,  0.00789207,  0.01333229,  0.00990103, -0.00564008,\n",
       "        -0.00757403,  0.00528053, -0.02378826, -0.02590419, -0.02507417,\n",
       "         0.00408807, -0.0315442 , -0.01640247, -0.00852906, -0.02745707,\n",
       "         0.03886748,  0.0067235 ,  0.00844846], dtype=float32),\n",
       " array([[-0.03533098],\n",
       "        [ 0.14465292],\n",
       "        [ 0.29479244],\n",
       "        [ 0.03570272],\n",
       "        [ 0.09424791],\n",
       "        [-0.16650268],\n",
       "        [-0.03572614],\n",
       "        [ 0.11307949],\n",
       "        [-0.20139395],\n",
       "        [ 0.17764938],\n",
       "        [-0.21494485],\n",
       "        [-0.16535766],\n",
       "        [-0.00682819],\n",
       "        [-0.17700577],\n",
       "        [-0.16516471],\n",
       "        [ 0.05802191],\n",
       "        [-0.00233046],\n",
       "        [ 0.06992093],\n",
       "        [-0.10570328],\n",
       "        [-0.10438916],\n",
       "        [ 0.17477386],\n",
       "        [-0.26588246],\n",
       "        [ 0.14948973],\n",
       "        [ 0.16712376],\n",
       "        [ 0.19925109],\n",
       "        [-0.15476689],\n",
       "        [-0.07979309],\n",
       "        [ 0.20879827],\n",
       "        [ 0.02110775],\n",
       "        [ 0.13112117],\n",
       "        [ 0.14691953],\n",
       "        [ 0.14843462],\n",
       "        [ 0.08771282],\n",
       "        [ 0.22480457],\n",
       "        [-0.01455384],\n",
       "        [-0.14931035],\n",
       "        [ 0.18874863],\n",
       "        [ 0.17335254],\n",
       "        [-0.0059423 ],\n",
       "        [ 0.15734768],\n",
       "        [-0.06180689],\n",
       "        [ 0.15117063],\n",
       "        [ 0.08484586],\n",
       "        [ 0.05695497],\n",
       "        [ 0.18473189],\n",
       "        [-0.067557  ],\n",
       "        [ 0.12905839],\n",
       "        [ 0.02937403],\n",
       "        [-0.18402678],\n",
       "        [ 0.09638292],\n",
       "        [ 0.11605583],\n",
       "        [ 0.01817262],\n",
       "        [-0.0785657 ],\n",
       "        [-0.07600717],\n",
       "        [-0.3084181 ],\n",
       "        [-0.00664318],\n",
       "        [ 0.02452458],\n",
       "        [-0.06485634],\n",
       "        [-0.0474253 ],\n",
       "        [-0.08823216],\n",
       "        [-0.09782014],\n",
       "        [-0.12917812],\n",
       "        [-0.06073182],\n",
       "        [-0.13235642],\n",
       "        [ 0.14522217],\n",
       "        [ 0.22273068],\n",
       "        [ 0.11762478],\n",
       "        [-0.07887722],\n",
       "        [-0.23620847],\n",
       "        [-0.2555432 ],\n",
       "        [ 0.11344786],\n",
       "        [ 0.0706871 ],\n",
       "        [-0.42029628],\n",
       "        [-0.0891049 ],\n",
       "        [ 0.1416173 ],\n",
       "        [-0.10120477],\n",
       "        [ 0.1300517 ],\n",
       "        [-0.10965243],\n",
       "        [-0.0041273 ],\n",
       "        [-0.05295008],\n",
       "        [ 0.2505073 ],\n",
       "        [-0.10304768],\n",
       "        [ 0.12364499],\n",
       "        [-0.11604323],\n",
       "        [-0.02729854],\n",
       "        [-0.14343376],\n",
       "        [ 0.13073693],\n",
       "        [-0.06821257],\n",
       "        [-0.16381799],\n",
       "        [-0.09837431],\n",
       "        [ 0.20066915],\n",
       "        [-0.24893889],\n",
       "        [-0.3134784 ],\n",
       "        [ 0.20221159],\n",
       "        [-0.15848498],\n",
       "        [ 0.17209516],\n",
       "        [-0.28134444],\n",
       "        [ 0.18217   ],\n",
       "        [ 0.02759834],\n",
       "        [ 0.13470979],\n",
       "        [ 0.05631758],\n",
       "        [ 0.16648792],\n",
       "        [ 0.21762852],\n",
       "        [ 0.19579789],\n",
       "        [ 0.20932013],\n",
       "        [ 0.04402026],\n",
       "        [ 0.12846883],\n",
       "        [-0.16825886],\n",
       "        [-0.10327216],\n",
       "        [ 0.24632017],\n",
       "        [ 0.03720544],\n",
       "        [-0.17485406],\n",
       "        [ 0.26045159],\n",
       "        [ 0.06925329],\n",
       "        [ 0.07986611],\n",
       "        [ 0.01101089],\n",
       "        [-0.02538674],\n",
       "        [ 0.03751129],\n",
       "        [ 0.07749549],\n",
       "        [-0.22318864],\n",
       "        [-0.21371901],\n",
       "        [ 0.01975531],\n",
       "        [-0.24480169],\n",
       "        [ 0.18012972],\n",
       "        [-0.02346529],\n",
       "        [ 0.28269318],\n",
       "        [-0.142468  ],\n",
       "        [-0.24346143]], dtype=float32),\n",
       " array([-0.05712872], dtype=float32)]"
      ]
     },
     "execution_count": 10,
     "metadata": {},
     "output_type": "execute_result"
    }
   ],
   "source": [
    "model.get_weights()"
   ]
  },
  {
   "cell_type": "code",
   "execution_count": 11,
   "metadata": {},
   "outputs": [],
   "source": [
    "# Step 2: Helper Functions\n",
    "# Function to decode reviews\n",
    "def decode_review(encoded_review):\n",
    "    return ' '.join([reverse_word_index.get(i - 3, '?') for i in encoded_review])\n",
    "\n",
    "# Function to preprocess user input\n",
    "def preprocess_text(text):\n",
    "    words = text.lower().split()\n",
    "    encoded_review = [word_index.get(word, 2) + 3 for word in words]\n",
    "    padded_review = sequence.pad_sequences([encoded_review], maxlen=500)\n",
    "    return padded_review"
   ]
  },
  {
   "cell_type": "code",
   "execution_count": 12,
   "metadata": {},
   "outputs": [],
   "source": [
    "### Prediction  function\n",
    "\n",
    "def predict_sentiment(review):\n",
    "    preprocessed_input=preprocess_text(review)\n",
    "\n",
    "    prediction=model.predict(preprocessed_input)\n",
    "\n",
    "    sentiment = 'Positive' if prediction[0][0] > 0.5 else 'Negative'\n",
    "    \n",
    "    return sentiment, prediction[0][0]"
   ]
  },
  {
   "cell_type": "code",
   "execution_count": 13,
   "metadata": {},
   "outputs": [
    {
     "name": "stdout",
     "output_type": "stream",
     "text": [
      "\u001b[1m1/1\u001b[0m \u001b[32m━━━━━━━━━━━━━━━━━━━━\u001b[0m\u001b[37m\u001b[0m \u001b[1m0s\u001b[0m 181ms/step\n",
      "Review: This movie was fantastic! The acting was great and the plot was thrilling.\n",
      "Sentiment: Negative\n",
      "Prediction Score: 0.016656016930937767\n"
     ]
    }
   ],
   "source": [
    "# Step 4: User Input and Prediction\n",
    "# Example review for prediction\n",
    "example_review = \"This movie was fantastic! The acting was great and the plot was thrilling.\"\n",
    "\n",
    "sentiment,score=predict_sentiment(example_review)\n",
    "\n",
    "print(f'Review: {example_review}')\n",
    "print(f'Sentiment: {sentiment}')\n",
    "print(f'Prediction Score: {score}')"
   ]
  }
 ],
 "metadata": {
  "kernelspec": {
   "display_name": "Python 3",
   "language": "python",
   "name": "python3"
  },
  "language_info": {
   "codemirror_mode": {
    "name": "ipython",
    "version": 3
   },
   "file_extension": ".py",
   "mimetype": "text/x-python",
   "name": "python",
   "nbconvert_exporter": "python",
   "pygments_lexer": "ipython3",
   "version": "3.12.0"
  }
 },
 "nbformat": 4,
 "nbformat_minor": 2
}
